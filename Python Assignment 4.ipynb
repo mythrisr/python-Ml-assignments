{
 "cells": [
  {
   "cell_type": "markdown",
   "id": "cccabe90",
   "metadata": {},
   "source": [
    "1.1 Write a Python Program(with class concepts) to find the area of the triangle using the below\n",
    "formula.\n",
    "area = (s*(s-a)*(s-b)*(s-c)) ** 0.5\n",
    "Function to take the length of the sides of triangle from user should be defined in the parent\n",
    "class and function to calculate the area should be defined in subclass.\n"
   ]
  },
  {
   "cell_type": "code",
   "execution_count": 11,
   "id": "9314c632",
   "metadata": {},
   "outputs": [
    {
     "name": "stdout",
     "output_type": "stream",
     "text": [
      "intialized child class\n",
      "Intialised triangle super class [3,4,5]\n",
      "6.0\n",
      "Area of triangle = 6.0\n"
     ]
    }
   ],
   "source": [
    "class Triangle:\n",
    "    def __init__(self,side1,side2,side3):\n",
    "        self.side1 = side1\n",
    "        self.side2 = side2\n",
    "        self.side3 = side3\n",
    "        print(\"Intialised triangle super class [\" +str(side1)+ \",\" +str(side2)+ \",\" +str(side3)+ \"]\")\n",
    "        \n",
    "class Area_triangle(Triangle):\n",
    "    def __init__(self,side1,side2,side3):\n",
    "        print(\"intialized child class\")\n",
    "        super(Area_triangle,self).__init__(side1,side2,side3)\n",
    "        \n",
    "    def calculate_area(self):\n",
    "        s = (self.side1 + self.side2 +self.side3)/2\n",
    "        print(str(s))\n",
    "        return (s*(s-self.side1)*(s-self.side2)*(s-self.side3)) ** 0.5\n",
    "    \n",
    "instance = Area_triangle(3,4,5)\n",
    "print (\"Area of triangle = \" + str(instance.calculate_area()) )"
   ]
  },
  {
   "cell_type": "markdown",
   "id": "2d8c7b8b",
   "metadata": {},
   "source": [
    "Write a function filter_long_words() that takes a list of words and an integer n and returns\n",
    "the list of words that are longer than n."
   ]
  },
  {
   "cell_type": "code",
   "execution_count": 12,
   "id": "ec51f8b2",
   "metadata": {},
   "outputs": [
    {
     "data": {
      "text/plain": [
       "['mythri', 'radha', 'abcd', 'efgh']"
      ]
     },
     "execution_count": 12,
     "metadata": {},
     "output_type": "execute_result"
    }
   ],
   "source": [
    "def filter_long_words(l,n):\n",
    "    lst = []\n",
    "    for i in l:\n",
    "        #print(len(i))\n",
    "        if len(i) > n:\n",
    "                lst.append(i)\n",
    "    return lst\n",
    "\n",
    "l = [\"mythri\",\"radha\",\"abcd\",\"efgh\",\"abc\",\"ac\"]\n",
    "n=3\n",
    "filter_long_words(l,n)"
   ]
  },
  {
   "cell_type": "markdown",
   "id": "08fdbdf5",
   "metadata": {},
   "source": [
    "2.1 Write a Python program using function concept that maps list of words into a list of integers\n",
    "representing the lengths of the corresponding words.\n",
    "Hint: If a list [ ab,cde,erty] is passed on to the python function output should come as [2,3,4]\n",
    "Here 2,3 and 4 are the lengths of the words in the list."
   ]
  },
  {
   "cell_type": "code",
   "execution_count": 13,
   "id": "b201f4bf",
   "metadata": {},
   "outputs": [
    {
     "name": "stdout",
     "output_type": "stream",
     "text": [
      "Input : Please enter Words : ab,cde,erty\n",
      "Output: Length of Words are : [2, 3, 4]\n"
     ]
    }
   ],
   "source": [
    "def map_Words_to_Length(List):\n",
    "    return list(map(len, List))\n",
    "\n",
    "word_List=list(input(\"Input : Please enter Words : \").split(\",\"))\n",
    "#List Comprehension has been done to remove white trailing white spaces\n",
    "List=[x.strip() for x in word_List]\n",
    "#function Execution\n",
    "Words_lengths=map_Words_to_Length(List)\n",
    "\n",
    "print(\"Output: Length of Words are :\",Words_lengths )"
   ]
  },
  {
   "cell_type": "markdown",
   "id": "3fbe1230",
   "metadata": {},
   "source": [
    "2.2 Write a Python function which takes a character (i.e. a string of length 1) and returns True if\n",
    "it is a vowel, False otherwise."
   ]
  },
  {
   "cell_type": "code",
   "execution_count": 16,
   "id": "9dd2195c",
   "metadata": {},
   "outputs": [
    {
     "name": "stdout",
     "output_type": "stream",
     "text": [
      "Enter character to check that it is Vowel or not\n",
      "Input Value: str1\n",
      "please enter a single character\n"
     ]
    }
   ],
   "source": [
    "def isVowel(var):\n",
    "    value = \"\"\n",
    "    vowels = ['a','e','i','o','u']\n",
    "    if var.lower() in vowels:\n",
    "        value = True\n",
    "    else:\n",
    "        value = False\n",
    "    return value\n",
    "\n",
    "def isChar(a):\n",
    "    output = \" \"\n",
    "    if len(a) == 1:\n",
    "        output = isVowel(a)\n",
    "        if output == True:\n",
    "            print(\" The entered string is a vowel \")\n",
    "        else:\n",
    "            print(\" The entered character is not a vowel \")\n",
    "    else:\n",
    "        print(\"please enter a single character\")\n",
    "        \n",
    "print(\"Enter character to check that it is Vowel or not\")\n",
    "user_input = input(\"Input Value: \")\n",
    "isChar(user_input) \n",
    "\n"
   ]
  },
  {
   "cell_type": "code",
   "execution_count": null,
   "id": "a08f808a",
   "metadata": {
    "scrolled": true
   },
   "outputs": [],
   "source": []
  },
  {
   "cell_type": "code",
   "execution_count": null,
   "id": "61c02b4c",
   "metadata": {},
   "outputs": [],
   "source": []
  }
 ],
 "metadata": {
  "kernelspec": {
   "display_name": "Python 3",
   "language": "python",
   "name": "python3"
  },
  "language_info": {
   "codemirror_mode": {
    "name": "ipython",
    "version": 3
   },
   "file_extension": ".py",
   "mimetype": "text/x-python",
   "name": "python",
   "nbconvert_exporter": "python",
   "pygments_lexer": "ipython3",
   "version": "3.8.8"
  }
 },
 "nbformat": 4,
 "nbformat_minor": 5
}
