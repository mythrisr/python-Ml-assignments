{
 "cells": [
  {
   "cell_type": "markdown",
   "id": "c4011d78",
   "metadata": {},
   "source": [
    "Write a Python Program to implement your own myreduce() function which works exactly\n",
    "like Python's built-in function reduce()\n"
   ]
  },
  {
   "cell_type": "code",
   "execution_count": 77,
   "id": "c13ebd0c",
   "metadata": {},
   "outputs": [
    {
     "data": {
      "text/plain": [
       "30"
      ]
     },
     "execution_count": 77,
     "metadata": {},
     "output_type": "execute_result"
    }
   ],
   "source": [
    "#myreduce function which calculates the sum of all elements in the list\n",
    "def myreduce(l):\n",
    "    \"\"\"This function calculates the sum of all the elements \"\"\"\n",
    "    sum = 0\n",
    "    for i in l:\n",
    "        sum = sum+i\n",
    "    return sum\n",
    "    \n",
    "lis = [1, 3, 5, 6, 2, 10,3]\n",
    "myreduce(lis)"
   ]
  },
  {
   "cell_type": "code",
   "execution_count": 78,
   "id": "f61b6e95",
   "metadata": {},
   "outputs": [
    {
     "name": "stdout",
     "output_type": "stream",
     "text": [
      "30\n"
     ]
    }
   ],
   "source": [
    "#sum of elements in a list using reduce function\n",
    "from functools import reduce\n",
    "print(reduce(lambda a,b:a+b,lis))"
   ]
  },
  {
   "cell_type": "markdown",
   "id": "2d98a77a",
   "metadata": {},
   "source": [
    "Write a Python program to implement your own myfilter() function which works exactly\n",
    "like Python's built-in function filter()\n"
   ]
  },
  {
   "cell_type": "code",
   "execution_count": 79,
   "id": "1ec9d31e",
   "metadata": {},
   "outputs": [
    {
     "data": {
      "text/plain": [
       "[5, 6, 7, 8, 9, 10, 24]"
      ]
     },
     "execution_count": 79,
     "metadata": {},
     "output_type": "execute_result"
    }
   ],
   "source": [
    "#myfilter function which displays values greater than 5\n",
    "def myfilter(l):\n",
    "    lis1=[]\n",
    "    lis2=[]\n",
    "    for i in (l):\n",
    "        if i >= 5:\n",
    "            lis1.append(i)\n",
    "        else:\n",
    "            lis2.append(i)\n",
    "    return lis1\n",
    "    \n",
    "l=[4,5,6,7,8,9,10,1,24,0,3]\n",
    "list(myfilter(l))"
   ]
  },
  {
   "cell_type": "code",
   "execution_count": 80,
   "id": "96914cdc",
   "metadata": {},
   "outputs": [
    {
     "data": {
      "text/plain": [
       "[5, 6, 7, 8, 9, 10, 24]"
      ]
     },
     "execution_count": 80,
     "metadata": {},
     "output_type": "execute_result"
    }
   ],
   "source": [
    "#to print values greater than 5 using filter function\n",
    "list(filter(lambda a: a if a>=5 else 0,l))"
   ]
  },
  {
   "cell_type": "markdown",
   "id": "0752dbff",
   "metadata": {},
   "source": [
    "Implement List comprehensions to produce the following lists. \n"
   ]
  },
  {
   "cell_type": "code",
   "execution_count": 82,
   "id": "1139ae85",
   "metadata": {},
   "outputs": [
    {
     "name": "stdout",
     "output_type": "stream",
     "text": [
      "['x', 'xx', 'xxx', 'xxxx', 'y', 'yy', 'yyy', 'yyyy', 'z', 'zz', 'zzz', 'zzzz']\n",
      "['x', 'y', 'z', 'xx', 'yy', 'zz', 'xxx', 'yyy', 'zzz', 'xxxx', 'yyyy', 'zzzz']\n",
      "[[2], [3], [4], [3], [4], [5], [4], [5], [6]] [[2, 3, 4, 5], [3, 4, 5, 6], [4, 5, 6, 7], [5, 6, 7, 8]]\n",
      "[(1, 1), (2, 1), (3, 1), (1, 2), (2, 2), (3, 2), (1, 3), (2, 3), (3, 3)]\n"
     ]
    }
   ],
   "source": [
    "#Section 1\n",
    "word1=list('xyz')\n",
    "word2=[x*n for x in word1 for n in range(1,5) ]\n",
    "print(word2)\n",
    "\n",
    "#Section 2\n",
    "word3=[x*n for n in range(1,5) for x in word1 ]\n",
    "print(word3)\n",
    "\n",
    "#Section 3\n",
    "num=[2,3,4]\n",
    "num1=[[x+n] for x in num for n in range(0,3)]\n",
    "num2=[2,3,4,5]\n",
    "num3=[[x+n for n in range(0,4)] for x in num2 ]\n",
    "print(num1,num3)\n",
    "\n",
    "\n",
    "#Section 4\n",
    "num4=[1,2,3]\n",
    "num5= [(b,a) for a in num4 for b in num4]\n",
    "print(num5)"
   ]
  },
  {
   "cell_type": "code",
   "execution_count": null,
   "id": "69b04ba5",
   "metadata": {},
   "outputs": [],
   "source": []
  }
 ],
 "metadata": {
  "kernelspec": {
   "display_name": "Python 3",
   "language": "python",
   "name": "python3"
  },
  "language_info": {
   "codemirror_mode": {
    "name": "ipython",
    "version": 3
   },
   "file_extension": ".py",
   "mimetype": "text/x-python",
   "name": "python",
   "nbconvert_exporter": "python",
   "pygments_lexer": "ipython3",
   "version": "3.8.8"
  }
 },
 "nbformat": 4,
 "nbformat_minor": 5
}
